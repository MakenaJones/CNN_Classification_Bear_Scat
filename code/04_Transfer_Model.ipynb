{
 "cells": [
  {
   "cell_type": "markdown",
   "metadata": {
    "id": "vd27_M_Q7sMT"
   },
   "source": [
    "# IV. Transfer Model\n",
    "---\n",
    "\n"
   ]
  },
  {
   "cell_type": "markdown",
   "metadata": {
    "id": "QC4ZGGaMUfjC"
   },
   "source": [
    "This section uses the transfer model, EfficientNetB0, to see if it performs better than the CNN model we trained in the previous section."
   ]
  },
  {
   "cell_type": "code",
   "execution_count": 1,
   "metadata": {
    "id": "lS2w5LT58Bm4"
   },
   "outputs": [],
   "source": [
    "# For this model, require version 2.9 of tensorflow to avoid a bug. Uncomment this cell if needed.\n",
    "# !pip install tensorflow==2.9"
   ]
  },
  {
   "cell_type": "code",
   "execution_count": null,
   "metadata": {
    "id": "FyPyksOy7o2Z"
   },
   "outputs": [],
   "source": [
    "# imports\n",
    "import matplotlib.pyplot as plt\n",
    "import numpy as np\n",
    "import os\n",
    "import pandas as pd\n",
    "from numpy import savetxt\n",
    "from IPython.display import Image\n",
    "\n",
    "from tensorflow.keras.layers import Dense, Flatten, Conv2D, MaxPooling2D\n",
    "from tensorflow.keras.models import Sequential\n",
    "from tensorflow.keras.preprocessing import image_dataset_from_directory\n",
    "from tensorflow.keras import layers\n",
    "from tensorflow import keras\n",
    "import tensorflow as tf\n",
    "\n",
    "from tensorflow.keras.preprocessing.image import load_img, img_to_array, smart_resize\n",
    "from tensorflow.keras.applications import EfficientNetB0\n",
    "from tensorflow.keras.layers import GlobalAveragePooling2D\n",
    "from tensorflow.keras.optimizers import Adam\n",
    "from sklearn.metrics import accuracy_score\n",
    "\n",
    "from tensorflow.keras.callbacks import EarlyStopping\n",
    "\n",
    "from sklearn.metrics import accuracy_score\n",
    "from tensorflow.keras.preprocessing.image import load_img, img_to_array, smart_resize\n",
    "# For reproducibility\n",
    "np.random.seed(42)\n",
    "from numpy.random import seed\n",
    "seed(42)"
   ]
  },
  {
   "cell_type": "code",
   "execution_count": null,
   "metadata": {
    "colab": {
     "base_uri": "https://localhost:8080/"
    },
    "id": "U-ZdWc5W77Ci",
    "outputId": "c2423374-c6dd-49a3-c20e-8134f9a4b83c"
   },
   "outputs": [
    {
     "name": "stdout",
     "output_type": "stream",
     "text": [
      "Mounted at /content/drive/\n"
     ]
    }
   ],
   "source": [
    "# Mounting G-Drive FOLDER\n",
    "from google.colab import drive\n",
    "drive.mount('/content/drive/', force_remount = True)"
   ]
  },
  {
   "cell_type": "code",
   "execution_count": null,
   "metadata": {
    "colab": {
     "base_uri": "https://localhost:8080/"
    },
    "id": "6Gfv8PUR77c9",
    "outputId": "de8d913e-e860-4d34-c334-56d5443b1835"
   },
   "outputs": [
    {
     "name": "stdout",
     "output_type": "stream",
     "text": [
      "anything_but  bear_scat\n"
     ]
    }
   ],
   "source": [
    "# Checking data folder\n",
    "!ls /content/drive/MyDrive/Capstone/images"
   ]
  },
  {
   "cell_type": "code",
   "execution_count": null,
   "metadata": {
    "colab": {
     "base_uri": "https://localhost:8080/"
    },
    "id": "8MSI1d4E77zD",
    "outputId": "4dd6833f-8fc9-4e8b-c1e1-ee2b012bc826"
   },
   "outputs": [
    {
     "name": "stdout",
     "output_type": "stream",
     "text": [
      "Found 1047 files belonging to 2 classes.\n",
      "Using 838 files for training.\n",
      "Found 1047 files belonging to 2 classes.\n",
      "Using 209 files for validation.\n"
     ]
    }
   ],
   "source": [
    "# Creating train_ds and val_ds for model\n",
    "# This will go through the folder and find photos and classify them based on folder location\n",
    "# ie. if in all folder will label all (1)\n",
    "train_df = image_dataset_from_directory(\n",
    "    '/content/drive/MyDrive/Capstone/images', # Directory\n",
    "    image_size = (256, 256), # make sure all images are the same size\n",
    "    batch_size = 32, # This will load 32 images at a time, memory can't hold them all\n",
    "    seed = 42, # random seed for reproducibility\n",
    "    validation_split = 0.2, \n",
    "    subset = 'training',\n",
    "    label_mode = 'binary'\n",
    ")\n",
    "\n",
    "val_ds = image_dataset_from_directory(\n",
    "    '/content/drive/MyDrive/Capstone/images',\n",
    "    image_size = (256, 256),\n",
    "    batch_size = 32,\n",
    "    seed = 42,\n",
    "    validation_split = 0.2,\n",
    "    subset = 'validation',\n",
    "    label_mode = 'binary'\n",
    ")"
   ]
  },
  {
   "cell_type": "code",
   "execution_count": null,
   "metadata": {
    "id": "KAIoBTyFRfqv"
   },
   "outputs": [],
   "source": [
    "# Inlcude top = false means it will not take the input layer, weights taken from the imagenet dataset, it has many classes\n",
    "# and we just want a single output for this binary problem.\n",
    "effnet = EfficientNetB0(include_top = False, weights = 'imagenet')"
   ]
  },
  {
   "cell_type": "code",
   "execution_count": null,
   "metadata": {
    "colab": {
     "base_uri": "https://localhost:8080/"
    },
    "id": "WJ9jsAKYRgTE",
    "outputId": "49d219a6-a616-49e5-d2be-c40b3433dc25"
   },
   "outputs": [
    {
     "data": {
      "text/plain": [
       "False"
      ]
     },
     "execution_count": 34,
     "metadata": {},
     "output_type": "execute_result"
    }
   ],
   "source": [
    "# Prevent the model from being trained by our data as we want it to maintain the correct weights.\n",
    "effnet.trainable = False\n",
    "effnet.trainable"
   ]
  },
  {
   "cell_type": "code",
   "execution_count": null,
   "metadata": {
    "id": "uFKURObDR8Gw"
   },
   "outputs": [],
   "source": [
    "# Transfer learning EfficientNetB0 model\n",
    "tf_model = Sequential()\n",
    "tf_model.add(effnet)\n",
    "tf_model.add(GlobalAveragePooling2D())# Required.\n",
    "# Flatten\n",
    "tf_model.add(Flatten())\n",
    "\n",
    "# Fully Connected\n",
    "tf_model.add(Dense(64, activation='relu'))\n",
    "tf_model.add(Dense(1, activation='sigmoid'))\n",
    "\n",
    "#Compile\n",
    "tf_model.compile(optimizer = 'adam',\n",
    "              loss = 'binary_crossentropy',\n",
    "              metrics = ['accuracy'])"
   ]
  },
  {
   "cell_type": "code",
   "execution_count": null,
   "metadata": {
    "id": "pFp71dF6VOHy"
   },
   "outputs": [],
   "source": [
    "# Use early stopping.\n",
    "es = EarlyStopping(patience = 5)"
   ]
  },
  {
   "cell_type": "code",
   "execution_count": null,
   "metadata": {
    "colab": {
     "base_uri": "https://localhost:8080/"
    },
    "id": "aXCy2rDcUDOs",
    "outputId": "69ad1a83-310c-437b-a272-0d0825eea0d7"
   },
   "outputs": [
    {
     "name": "stdout",
     "output_type": "stream",
     "text": [
      "Epoch 1/20\n",
      "27/27 [==============================] - 1s 38ms/step - loss: 0.0491 - accuracy: 0.9881 - val_loss: 0.2218 - val_accuracy: 0.8947\n",
      "Epoch 2/20\n",
      "27/27 [==============================] - 1s 37ms/step - loss: 0.0498 - accuracy: 0.9845 - val_loss: 0.1866 - val_accuracy: 0.8995\n",
      "Epoch 3/20\n",
      "27/27 [==============================] - 1s 37ms/step - loss: 0.0380 - accuracy: 0.9904 - val_loss: 0.1924 - val_accuracy: 0.9091\n",
      "Epoch 4/20\n",
      "27/27 [==============================] - 1s 36ms/step - loss: 0.0369 - accuracy: 0.9916 - val_loss: 0.2008 - val_accuracy: 0.9043\n",
      "Epoch 5/20\n",
      "27/27 [==============================] - 1s 36ms/step - loss: 0.0404 - accuracy: 0.9869 - val_loss: 0.1953 - val_accuracy: 0.9139\n",
      "Epoch 6/20\n",
      "27/27 [==============================] - 1s 36ms/step - loss: 0.0313 - accuracy: 0.9892 - val_loss: 0.2045 - val_accuracy: 0.9139\n",
      "Epoch 7/20\n",
      "27/27 [==============================] - 1s 38ms/step - loss: 0.0398 - accuracy: 0.9845 - val_loss: 0.2118 - val_accuracy: 0.9139\n"
     ]
    }
   ],
   "source": [
    "# Fit the model.\n",
    "transfer = tf_model.fit(train_df, validation_data= val_ds, epochs = 20, callbacks = [es])"
   ]
  },
  {
   "cell_type": "code",
   "execution_count": null,
   "metadata": {
    "colab": {
     "base_uri": "https://localhost:8080/"
    },
    "id": "io6WJz4wU-m0",
    "outputId": "0a236e1d-19fd-4714-8d31-03ac5dbc3e92"
   },
   "outputs": [
    {
     "name": "stdout",
     "output_type": "stream",
     "text": [
      "0.039826299995183945 0.21175937354564667\n",
      "0.9844683408737183 0.9138755798339844\n"
     ]
    }
   ],
   "source": [
    "# Score model.\n",
    "print(transfer.history['loss'][-1], transfer.history['val_loss'][-1])\n",
    "print(transfer.history['accuracy'][-1], transfer.history['val_accuracy'][-1])"
   ]
  },
  {
   "cell_type": "code",
   "execution_count": null,
   "metadata": {
    "colab": {
     "base_uri": "https://localhost:8080/",
     "height": 540
    },
    "id": "or_oTLX2_s71",
    "outputId": "90a8c8af-38b5-4145-b41b-b525e5a39f46"
   },
   "outputs": [
    {
     "data": {
      "image/png": "[encoded data removed]",
      "text/plain": [
       "<Figure size 1152x576 with 2 Axes>"
      ]
     },
     "metadata": {
      "needs_background": "light"
     },
     "output_type": "display_data"
    }
   ],
   "source": [
    "# Plot loss and accuracy.\n",
    "fig, (ax1, ax2) = plt.subplots(1, 2, figsize=(16,8),)\n",
    "fig.suptitle('Loss and Acuuracy for Train Vs Validation data')\n",
    "figsize=(16,16),\n",
    "ax1.plot(transfer.history['loss'], label = 'Train Loss'),\n",
    "ax1.plot(transfer.history['val_loss'], label = 'Validation Loss'),\n",
    "ax1.legend()\n",
    "ax2.plot(transfer.history['accuracy'], label = 'Train Accuracy'),\n",
    "ax2.plot(transfer.history['val_accuracy'], label = 'Validation Accuracy')\n",
    "ax2.legend();"
   ]
  },
  {
   "cell_type": "markdown",
   "metadata": {
    "id": "g2ZZ4wPEXjPT"
   },
   "source": [
    "---\n",
    "### Conclusions\n",
    "\n",
    "The transfer model performs well, but not signifcantly better than our CNN model. Going forward, it would be worth trying different transfer models, as well as gathering more labelled data to develop the best possible identification application.\n",
    "\n",
    "---\n"
   ]
  }
 ],
 "metadata": {
  "accelerator": "GPU",
  "colab": {
   "machine_shape": "hm",
   "provenance": []
  },
  "gpuClass": "standard",
  "kernelspec": {
   "display_name": "Python 3 (ipykernel)",
   "language": "python",
   "name": "python3"
  },
  "language_info": {
   "codemirror_mode": {
    "name": "ipython",
    "version": 3
   },
   "file_extension": ".py",
   "mimetype": "text/x-python",
   "name": "python",
   "nbconvert_exporter": "python",
   "pygments_lexer": "ipython3",
   "version": "3.9.13"
  }
 },
 "nbformat": 4,
 "nbformat_minor": 4
}
